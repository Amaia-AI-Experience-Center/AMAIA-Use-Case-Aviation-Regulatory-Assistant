{
 "cells": [
  {
   "cell_type": "markdown",
   "metadata": {},
   "source": [
    "# Sistema Multi-Agente de Consulta de Normativas Aeronáuticas\n",
    "\n",
    "## Descripción\n",
    "\n",
    "En este ejercicio, diseñarás un **sistema multi-agente que orquesta consultas a diferentes normativas aeronáuticas**. Un agente orquestador decidirá qué agentes especializados invocar según la consulta del usuario, y siempre verificará con la normativa EASA antes de dar una respuesta final.\n",
    "\n",
    "### Arquitectura\n",
    "```\n",
    "Consulta del usuario\n",
    "    ↓\n",
    "[Agente Orquestador]\n",
    "    ├→ [EASA] → Siempre consultado (obligatorio)\n",
    "    ├→ [DEF-STAN] → Consultado si se menciona\n",
    "    ├→ [EDA] → Consultado si se menciona\n",
    "    ├→ [FAA] → Consultado si se menciona\n",
    "    └→ [JSSG] → Consultado si se menciona\n",
    "    ↓\n",
    "Respuesta integral verificada con EASA\n",
    "```\n",
    "\n",
    "### Agentes Especializados Disponibles\n",
    "- **DEF-STAN**: Normativa DEF STAN\n",
    "- **EDA**: Normativa EDA (European Defence Agency)\n",
    "- **FAA**: Normativa FAA (Federal Aviation Administration)\n",
    "- **JSSG**: Normativa JSSG (Joint Service Specification Guide)\n",
    "- **EASA**: Normativa EASA (European Union Aviation Safety Agency) - **Verificación obligatoria**\n",
    "\n",
    "### Conceptos Clave\n",
    "- **Connected Agent Tools**: Permite que el orquestador invoque agentes especializados\n",
    "- **Arquitectura Multi-agente**: Consulta inteligente basada en el contexto de la pregunta\n",
    "- **Verificación EASA**: Todas las respuestas deben ser verificadas con la normativa EASA"
   ]
  },
  {
   "cell_type": "markdown",
   "metadata": {},
   "source": [
    "### Cargar librerías y variables de entorno"
   ]
  },
  {
   "cell_type": "code",
   "execution_count": 1,
   "metadata": {},
   "outputs": [],
   "source": [
    "import os\n",
    "from dotenv import load_dotenv, find_dotenv\n",
    "\n",
    "from azure.ai.agents import AgentsClient\n",
    "from azure.ai.agents.models import ConnectedAgentTool, MessageRole, ListSortOrder\n",
    "from azure.identity import DefaultAzureCredential\n",
    "\n",
    "load_dotenv(find_dotenv(usecwd=True))\n",
    "project_endpoint = os.getenv(\"PROJECT_ENDPOINT\")\n",
    "model_deployment = os.getenv(\"MODEL_DEPLOYMENT_NAME\")"
   ]
  },
  {
   "cell_type": "markdown",
   "metadata": {},
   "source": [
    "### Conectar al Cliente de Agentes (Agent Client)"
   ]
  },
  {
   "cell_type": "code",
   "execution_count": 2,
   "metadata": {},
   "outputs": [
    {
     "name": "stdout",
     "output_type": "stream",
     "text": [
      "Connecting to Azure AI Agents Client...\n"
     ]
    },
    {
     "name": "stdout",
     "output_type": "stream",
     "text": [
      "Agents client connected successfully\n"
     ]
    }
   ],
   "source": [
    "print(\"Connecting to Azure AI Agents Client...\")\n",
    "agents_client = AgentsClient(\n",
    "    endpoint=project_endpoint,\n",
    "    credential=DefaultAzureCredential(\n",
    "        exclude_environment_credential=True,\n",
    "        exclude_managed_identity_credential=True,\n",
    "    )\n",
    ")\n",
    "print(\"Agents client connected successfully\")"
   ]
  },
  {
   "cell_type": "markdown",
   "metadata": {},
   "source": [
    "### Configurar Agentes Especializados Existentes\n",
    "\n",
    "Los agentes especializados ya están creados con conocimiento exclusivo de diferentes normativas. Configuramos las herramientas para conectar con ellos."
   ]
  },
  {
   "cell_type": "code",
   "execution_count": 3,
   "metadata": {},
   "outputs": [
    {
     "name": "stdout",
     "output_type": "stream",
     "text": [
      "Configurando herramientas para agentes especializados...\n",
      "\n",
      "Agentes disponibles:\n",
      "  - DEF-STAN: asst_rkE8wccEYNW8VMkyYvGbCJGA\n",
      "  - EDA: asst_fOW4towcWWIuHUN7Q8cBI05x\n",
      "  - FAA: asst_acdzvNNQe6951L1v1wnIWRJJ\n",
      "  - JSSG: asst_8w48R9lpBhAP5DluxYpYzMjE\n",
      "  - EASA: asst_4Fh3Cj4SBLhjWmgeQLgXTzjV\n"
     ]
    }
   ],
   "source": [
    "# IDs de los agentes especializados ya creados\n",
    "AGENT_IDS = {\n",
    "    \"DEF-STAN\": \"asst_rkE8wccEYNW8VMkyYvGbCJGA\",\n",
    "    \"EDA\": \"asst_fOW4towcWWIuHUN7Q8cBI05x\",\n",
    "    \"FAA\": \"asst_acdzvNNQe6951L1v1wnIWRJJ\",\n",
    "    \"JSSG\": \"asst_8w48R9lpBhAP5DluxYpYzMjE\",\n",
    "    \"EASA\": \"asst_4Fh3Cj4SBLhjWmgeQLgXTzjV\"\n",
    "}\n",
    "\n",
    "print(\"Configurando herramientas para agentes especializados...\")\n",
    "print(f\"\\nAgentes disponibles:\")\n",
    "for name, agent_id in AGENT_IDS.items():\n",
    "    print(f\"  - {name}: {agent_id}\")"
   ]
  },
  {
   "cell_type": "markdown",
   "metadata": {},
   "source": [
    "### Crear Herramientas de Agentes Conectados (Connected Agent Tools)\n",
    "\n",
    "Creamos herramientas para que el agente orquestador pueda invocar a cada uno de los agentes especializados."
   ]
  },
  {
   "cell_type": "code",
   "execution_count": 4,
   "metadata": {},
   "outputs": [
    {
     "name": "stdout",
     "output_type": "stream",
     "text": [
      "Creando herramientas de agentes conectados...\n",
      "Herramientas de agentes conectados creadas:\n",
      "  - DEF-STAN\n",
      "  - EDA\n",
      "  - FAA\n",
      "  - JSSG\n",
      "  - EASA (verificación obligatoria)\n"
     ]
    }
   ],
   "source": [
    "print(\"Creando herramientas de agentes conectados...\")\n",
    "\n",
    "# Herramienta para DEF-STAN\n",
    "defstan_tool = ConnectedAgentTool(\n",
    "    id=AGENT_IDS[\"DEF-STAN\"],\n",
    "    name=\"DEF_STAN\",\n",
    "    description=\"Consulta la normativa DEF STAN. Usa esta herramienta cuando el usuario mencione específicamente DEF STAN o estándares de defensa británicos.\"\n",
    ")\n",
    "\n",
    "# Herramienta para EDA\n",
    "eda_tool = ConnectedAgentTool(\n",
    "    id=AGENT_IDS[\"EDA\"],\n",
    "    name=\"EDA\",\n",
    "    description=\"Consulta la normativa EDA (European Defence Agency). Usa esta herramienta cuando el usuario mencione específicamente EDA o normativa de defensa europea.\"\n",
    ")\n",
    "\n",
    "# Herramienta para FAA\n",
    "faa_tool = ConnectedAgentTool(\n",
    "    id=AGENT_IDS[\"FAA\"],\n",
    "    name=\"FAA\",\n",
    "    description=\"Consulta la normativa FAA (Federal Aviation Administration). Usa esta herramienta cuando el usuario mencione específicamente FAA o regulaciones estadounidenses.\"\n",
    ")\n",
    "\n",
    "# Herramienta para JSSG\n",
    "jssg_tool = ConnectedAgentTool(\n",
    "    id=AGENT_IDS[\"JSSG\"],\n",
    "    name=\"JSSG\",\n",
    "    description=\"Consulta la normativa JSSG (Joint Service Specification Guide). Usa esta herramienta cuando el usuario mencione específicamente JSSG o especificaciones militares.\"\n",
    ")\n",
    "\n",
    "# Herramienta para EASA (OBLIGATORIA)\n",
    "easa_tool = ConnectedAgentTool(\n",
    "    id=AGENT_IDS[\"EASA\"],\n",
    "    name=\"EASA\",\n",
    "    description=\"Consulta la normativa EASA (European Union Aviation Safety Agency). ESTA HERRAMIENTA DEBE SER SIEMPRE CONSULTADA antes de proporcionar una respuesta final al usuario.\"\n",
    ")\n",
    "\n",
    "print(\"Herramientas de agentes conectados creadas:\")\n",
    "print(\"  - DEF-STAN\")\n",
    "print(\"  - EDA\")\n",
    "print(\"  - FAA\")\n",
    "print(\"  - JSSG\")\n",
    "print(\"  - EASA (verificación obligatoria)\")"
   ]
  },
  {
   "cell_type": "markdown",
   "metadata": {},
   "source": [
    "### Crear el Agente Orquestador\n",
    "\n",
    "Este agente analizará la consulta del usuario, decidirá qué agentes especializados invocar, y siempre verificará la respuesta con EASA."
   ]
  },
  {
   "cell_type": "code",
   "execution_count": 5,
   "metadata": {},
   "outputs": [
    {
     "name": "stdout",
     "output_type": "stream",
     "text": [
      "Creando agente orquestador...\n"
     ]
    },
    {
     "name": "stdout",
     "output_type": "stream",
     "text": [
      "Agente orquestador creado (id: asst_3t1rpqp9WOnWiy8whMRLob50)\n",
      "\n",
      "El agente tiene acceso a 5 herramientas:\n",
      "  - DEF-STAN\n",
      "  - EDA\n",
      "  - FAA\n",
      "  - JSSG\n",
      "  - EASA (verificación obligatoria)\n"
     ]
    }
   ],
   "source": [
    "orchestrator_agent_name = \"normativas-orchestrator\"\n",
    "orchestrator_agent_instructions = \"\"\"\n",
    "Eres un agente orquestador especializado en normativas aeronáuticas. Tu función es:\n",
    "\n",
    "1. Análisis de la Consulta: \n",
    "   - Analiza cuidadosamente la pregunta del usuario para identificar qué normativas específicas se mencionan o se requieren.\n",
    "   \n",
    "2. Selección de Agentes:\n",
    "   - Si el usuario menciona DEF-STAN, DEF STAN o estándares de defensa británicos: consulta al agente DEF-STAN\n",
    "   - Si el usuario menciona EDA o defensa europea: consulta al agente EDA\n",
    "   - Si el usuario menciona FAA o regulaciones estadounidenses: consulta al agente FAA\n",
    "   - Si el usuario menciona JSSG o especificaciones militares: consulta al agente JSSG\n",
    "   \n",
    "3. Verificación OBLIGATORIA con EASA:\n",
    "   - SIEMPRE debes consultar al agente EASA antes de proporcionar tu respuesta final\n",
    "   - La verificación con EASA es obligatoria independientemente de las otras normativas consultadas\n",
    "   - Usa la información de EASA para validar, complementar o contrastar con las otras normativas\n",
    "\n",
    "4. Respuesta Estructurada:\n",
    "   - Proporciona una respuesta clara y estructurada\n",
    "   - Indica claramente qué normativas has consultado\n",
    "   - Incluye la verificación de EASA al final\n",
    "   - Si hay conflictos entre normativas, señálalos claramente\n",
    "   \n",
    "5. Principios:\n",
    "   - Sé preciso y técnico en tus respuestas\n",
    "   - Cita las fuentes (normativas) consultadas\n",
    "   - Si no estás seguro, indícalo claramente\n",
    "   - Prioriza la seguridad y el cumplimiento normativo\n",
    "\n",
    "Recuerda: La consulta a EASA es OBLIGATORIA en todas las respuestas.\n",
    "\"\"\"\n",
    "\n",
    "print(\"Creando agente orquestador...\")\n",
    "orchestrator_agent = agents_client.create_agent(\n",
    "    model=model_deployment,\n",
    "    name=orchestrator_agent_name,\n",
    "    instructions=orchestrator_agent_instructions,\n",
    "    tools=[\n",
    "        defstan_tool.definitions[0],\n",
    "        eda_tool.definitions[0],\n",
    "        faa_tool.definitions[0],\n",
    "        jssg_tool.definitions[0],\n",
    "        easa_tool.definitions[0],\n",
    "    ],\n",
    ")\n",
    "print(f\"Agente orquestador creado (id: {orchestrator_agent.id})\")\n",
    "print(f\"\\nEl agente tiene acceso a {len(orchestrator_agent.tools)} herramientas:\")\n",
    "print(\"  - DEF-STAN\")\n",
    "print(\"  - EDA\")\n",
    "print(\"  - FAA\")\n",
    "print(\"  - JSSG\")\n",
    "print(\"  - EASA (verificación obligatoria)\")"
   ]
  },
  {
   "cell_type": "markdown",
   "metadata": {},
   "source": [
    "### Realizar Consultas al Sistema Multi-Agente\n",
    "\n",
    "Introduce tu consulta sobre normativas aeronáuticas en el `prompt`. El agente orquestador decidirá qué agentes consultar y siempre verificará con EASA."
   ]
  },
  {
   "cell_type": "code",
   "execution_count": 6,
   "metadata": {},
   "outputs": [
    {
     "name": "stdout",
     "output_type": "stream",
     "text": [
      "Creando hilo de conversación...\n",
      "Hilo creado (id: thread_bNlQvmZWN37VMXBHSOC6h6mA)\n",
      "\n",
      "================================================================================\n",
      "CONSULTA DEL USUARIO:\n",
      "================================================================================\n",
      "¿Qué requisitos establece la normativa FAA para la certificación de motores turbofan?\n",
      "================================================================================\n",
      "\n",
      "Enviando consulta al agente orquestador...\n",
      "Procesando consulta... El agente orquestador está consultando las normativas necesarias.\n",
      "Esto puede tomar unos momentos...\n",
      "\n",
      "Procesamiento completado con estado: RunStatus.COMPLETED\n",
      "\n",
      "================================================================================\n",
      "RESPUESTA DEL AGENTE:\n",
      "================================================================================\n",
      "\n",
      "\n",
      "He consultado las normativas de la FAA y de EASA para responder a su consulta sobre los requisitos para la certificación de motores turbofan.\n",
      "\n",
      "1. Requisitos FAA (14 CFR Parte 33):  \n",
      "   - Esta normativa establece estándares detallados de diseño, materiales, protección contra incendio, sistemas de enfriamiento, y limitaciones de montaje.  \n",
      "   - Incluye requisitos de seguridad específicos para turbofans, como protección contra formación de hielo e ingesta de objetos.  \n",
      "   - Se exigen pruebas de ingesta de aves para validar seguridad ante impactos, así como pruebas de durabilidad y límites de vida útil para partes críticas.  \n",
      "   - El sistema de ignición debe tener circuitos redundantes para arranque y operación en vuelo.  \n",
      "   - También se contemplan pruebas de sobrerrevoluciones, vibraciones y desempeño ante condiciones adversas y ambientales.  \n",
      "   (Fuente: 14 CFR Parte 33, subpartes C-G y apéndices) .\n",
      "\n",
      "2. Requisitos EASA (Reglamento (EU) No 748/2012 Parte 21 y CS-E):  \n",
      "   - La certificación requiere demostrar cumplimiento técnico y ambiental con programas detallados de certificación y declaraciones formales del solicitante.  \n",
      "   - Se hacen ensayos de vibración para componentes críticos y pruebas de resistencia en condiciones extremas de presión y temperatura.  \n",
      "   - Se evalúan emisiones contaminantes conforme a anexos del Convenio de Chicago.  \n",
      "   - Se realizan vuelos de prueba para validar desempeño y seguridad operativa.  \n",
      "   - Existe capacitación específica para pilotos de prueba y equipos de certificación.  \n",
      "   - Se debe mantener documentación completa de manuales, certificado de ruido, directivas de mantenimiento y conformidad.  \n",
      "   (Fuente: Reglamento (EU) No 748/2012 Parte 21 y CS-E) 【1:CS-E Amendment 1.pdf】.\n",
      "\n",
      "No se ha solicitado consulta a otras normativas (DEF STAN, EDA, JSSG) en esta ocasión.\n",
      "\n",
      "En conclusión, la certificación de motores turbofan por FAA y EASA comparte un enfoque riguroso basado en pruebas de seguridad, durabilidad, resistencia a condiciones ambientales adversas e ingesta de objetos, controles de emisiones, y pruebas de vuelo, pero cada agencia tiene especificaciones particulares que el solicitante debe respetar. Es imprescindible cumplir con ambas normativas para operar en sus jurisdicciones.\n",
      "\n",
      "Si desea, puedo brindarle un desglose más detallado o explicar diferencias concretas entre ambas normativas.\n",
      "\n",
      "================================================================================\n"
     ]
    }
   ],
   "source": [
    "print(\"Creando hilo de conversación...\")\n",
    "thread = agents_client.threads.create()\n",
    "print(f\"Hilo creado (id: {thread.id})\")\n",
    "\n",
    "# Introduce tu consulta aquí\n",
    "prompt = \"¿Qué requisitos establece la normativa FAA para la certificación de motores turbofan?\"\n",
    "\n",
    "print(f\"\\n{'='*80}\")\n",
    "print(f\"CONSULTA DEL USUARIO:\")\n",
    "print(f\"{'='*80}\")\n",
    "print(f\"{prompt}\")\n",
    "print(f\"{'='*80}\\n\")\n",
    "\n",
    "print(\"Enviando consulta al agente orquestador...\")\n",
    "message = agents_client.messages.create(\n",
    "    thread_id=thread.id,\n",
    "    role=MessageRole.USER,\n",
    "    content=prompt,\n",
    ")\n",
    "\n",
    "print(\"Procesando consulta... El agente orquestador está consultando las normativas necesarias.\")\n",
    "print(\"Esto puede tomar unos momentos...\\n\")\n",
    "\n",
    "run = agents_client.runs.create_and_process(\n",
    "    thread_id=thread.id, \n",
    "    agent_id=orchestrator_agent.id\n",
    ")\n",
    "\n",
    "print(f\"Procesamiento completado con estado: {run.status}\\n\")\n",
    "\n",
    "if run.status == \"failed\":\n",
    "    print(f\"❌ Error en la ejecución: {run.last_error}\")\n",
    "else:\n",
    "    print(f\"{'='*80}\")\n",
    "    print(f\"RESPUESTA DEL AGENTE:\")\n",
    "    print(f\"{'='*80}\\n\")\n",
    "    \n",
    "    messages = agents_client.messages.list(\n",
    "        thread_id=thread.id, \n",
    "        order=ListSortOrder.ASCENDING\n",
    "    )\n",
    "    \n",
    "    for message in messages:\n",
    "        if message.text_messages:\n",
    "            for text_msg in message.text_messages:\n",
    "                if message.role != MessageRole.USER:\n",
    "                    print(f\"\\n{text_msg.text.value}\\n\")\n",
    "    \n",
    "    print(f\"{'='*80}\")"
   ]
  }
 ],
 "metadata": {
  "kernelspec": {
   "display_name": "Python 3",
   "language": "python",
   "name": "python3"
  },
  "language_info": {
   "codemirror_mode": {
    "name": "ipython",
    "version": 3
   },
   "file_extension": ".py",
   "mimetype": "text/x-python",
   "name": "python",
   "nbconvert_exporter": "python",
   "pygments_lexer": "ipython3",
   "version": "3.12.1"
  }
 },
 "nbformat": 4,
 "nbformat_minor": 2
}
