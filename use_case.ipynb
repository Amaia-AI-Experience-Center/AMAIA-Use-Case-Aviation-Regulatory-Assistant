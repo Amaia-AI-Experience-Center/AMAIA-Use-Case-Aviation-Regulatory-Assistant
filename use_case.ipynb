{
 "cells": [
  {
   "cell_type": "markdown",
   "metadata": {},
   "source": [
    "# Sistema Multi-Agente de Consulta de Normativas Aeronáuticas\n",
    "\n",
    "## Descripción\n",
    "\n",
    "En este ejercicio, diseñarás un **sistema multi-agente que orquesta consultas a diferentes normativas aeronáuticas**. Un agente orquestador decidirá qué agentes especializados invocar según la consulta del usuario, y siempre verificará con la normativa EASA antes de dar una respuesta final.\n",
    "\n",
    "### Arquitectura\n",
    "```\n",
    "Consulta del usuario\n",
    "    ↓\n",
    "[Agente Orquestador]\n",
    "    ├→ [EASA] → Siempre consultado (obligatorio)\n",
    "    ├→ [DEF-STAN] → Consultado si se menciona\n",
    "    ├→ [EDA] → Consultado si se menciona\n",
    "    ├→ [FAA] → Consultado si se menciona\n",
    "    └→ [JSSG] → Consultado si se menciona\n",
    "    ↓\n",
    "Respuesta integral verificada con EASA\n",
    "```\n",
    "\n",
    "### Agentes Especializados Disponibles\n",
    "- **DEF-STAN**: Normativa DEF STAN\n",
    "- **EDA**: Normativa EDA (European Defence Agency)\n",
    "- **FAA**: Normativa FAA (Federal Aviation Administration)\n",
    "- **JSSG**: Normativa JSSG (Joint Service Specification Guide)\n",
    "- **EASA**: Normativa EASA (European Union Aviation Safety Agency) - **Verificación obligatoria**\n",
    "\n",
    "### Conceptos Clave\n",
    "- **Connected Agent Tools**: Permite que el orquestador invoque agentes especializados\n",
    "- **Arquitectura Multi-agente**: Consulta inteligente basada en el contexto de la pregunta\n",
    "- **Verificación EASA**: Todas las respuestas deben ser verificadas con la normativa EASA"
   ]
  },
  {
   "cell_type": "markdown",
   "metadata": {},
   "source": [
    "### Cargar librerías y variables de entorno"
   ]
  },
  {
   "cell_type": "code",
   "execution_count": 15,
   "metadata": {},
   "outputs": [],
   "source": [
    "import os\n",
    "from dotenv import load_dotenv, find_dotenv\n",
    "\n",
    "from azure.ai.agents import AgentsClient\n",
    "from azure.ai.agents.models import ConnectedAgentTool, MessageRole, ListSortOrder\n",
    "from azure.identity import DefaultAzureCredential\n",
    "\n",
    "load_dotenv(find_dotenv(usecwd=True))\n",
    "project_endpoint = os.getenv(\"PROJECT_ENDPOINT\")\n",
    "model_deployment = os.getenv(\"MODEL_DEPLOYMENT_NAME\")"
   ]
  },
  {
   "cell_type": "markdown",
   "metadata": {},
   "source": [
    "### Conectar al Cliente de Agentes (Agent Client)"
   ]
  },
  {
   "cell_type": "code",
   "execution_count": 16,
   "metadata": {},
   "outputs": [
    {
     "name": "stdout",
     "output_type": "stream",
     "text": [
      "Connecting to Azure AI Agents Client...\n",
      "Agents client connected successfully\n"
     ]
    }
   ],
   "source": [
    "print(\"Connecting to Azure AI Agents Client...\")\n",
    "agents_client = AgentsClient(\n",
    "    endpoint=project_endpoint,\n",
    "    credential=DefaultAzureCredential(\n",
    "        exclude_environment_credential=True,\n",
    "        exclude_managed_identity_credential=True,\n",
    "    )\n",
    ")\n",
    "print(\"Agents client connected successfully\")"
   ]
  },
  {
   "cell_type": "markdown",
   "metadata": {},
   "source": [
    "### Configurar Agentes Especializados Existentes\n",
    "\n",
    "Los agentes especializados ya están creados con conocimiento exclusivo de diferentes normativas. Configuramos las herramientas para conectar con ellos."
   ]
  },
  {
   "cell_type": "code",
   "execution_count": 17,
   "metadata": {},
   "outputs": [
    {
     "name": "stdout",
     "output_type": "stream",
     "text": [
      "Configurando herramientas para agentes especializados...\n",
      "\n",
      "Agentes disponibles:\n",
      "  - DEF-STAN: asst_rkE8wccEYNW8VMkyYvGbCJGA\n",
      "  - EDA: asst_fOW4towcWWIuHUN7Q8cBI05x\n",
      "  - FAA: asst_acdzvNNQe6951L1v1wnIWRJJ\n",
      "  - JSSG: asst_8w48R9lpBhAP5DluxYpYzMjE\n",
      "  - EASA: asst_4Fh3Cj4SBLhjWmgeQLgXTzjV\n"
     ]
    }
   ],
   "source": [
    "# IDs de los agentes especializados ya creados\n",
    "AGENT_IDS = {\n",
    "    \"DEF-STAN\": \"asst_rkE8wccEYNW8VMkyYvGbCJGA\",\n",
    "    \"EDA\": \"asst_fOW4towcWWIuHUN7Q8cBI05x\",\n",
    "    \"FAA\": \"asst_acdzvNNQe6951L1v1wnIWRJJ\",\n",
    "    \"JSSG\": \"asst_8w48R9lpBhAP5DluxYpYzMjE\",\n",
    "    \"EASA\": \"asst_4Fh3Cj4SBLhjWmgeQLgXTzjV\"\n",
    "}\n",
    "\n",
    "print(\"Configurando herramientas para agentes especializados...\")\n",
    "print(f\"\\nAgentes disponibles:\")\n",
    "for name, agent_id in AGENT_IDS.items():\n",
    "    print(f\"  - {name}: {agent_id}\")"
   ]
  },
  {
   "cell_type": "markdown",
   "metadata": {},
   "source": [
    "### Crear Herramientas de Agentes Conectados (Connected Agent Tools)\n",
    "\n",
    "Creamos herramientas para que el agente orquestador pueda invocar a cada uno de los agentes especializados."
   ]
  },
  {
   "cell_type": "code",
   "execution_count": 18,
   "metadata": {},
   "outputs": [
    {
     "name": "stdout",
     "output_type": "stream",
     "text": [
      "Creando herramientas de agentes conectados...\n",
      "Herramientas de agentes conectados creadas:\n",
      "  - DEF-STAN\n",
      "  - EDA\n",
      "  - FAA\n",
      "  - JSSG\n",
      "  - EASA (verificación obligatoria)\n"
     ]
    }
   ],
   "source": [
    "print(\"Creando herramientas de agentes conectados...\")\n",
    "\n",
    "# Herramienta para DEF-STAN\n",
    "defstan_tool = ConnectedAgentTool(\n",
    "    id=AGENT_IDS[\"DEF-STAN\"],\n",
    "    name=\"DEF_STAN\",\n",
    "    description=\"Consulta la normativa DEF STAN. Usa esta herramienta cuando el usuario mencione específicamente DEF STAN o estándares de defensa británicos.\"\n",
    ")\n",
    "\n",
    "# Herramienta para EDA\n",
    "eda_tool = ConnectedAgentTool(\n",
    "    id=AGENT_IDS[\"EDA\"],\n",
    "    name=\"EDA\",\n",
    "    description=\"Consulta la normativa EDA (European Defence Agency). Usa esta herramienta cuando el usuario mencione específicamente EDA o normativa de defensa europea.\"\n",
    ")\n",
    "\n",
    "# Herramienta para FAA\n",
    "faa_tool = ConnectedAgentTool(\n",
    "    id=AGENT_IDS[\"FAA\"],\n",
    "    name=\"FAA\",\n",
    "    description=\"Consulta la normativa FAA (Federal Aviation Administration). Usa esta herramienta cuando el usuario mencione específicamente FAA o regulaciones estadounidenses.\"\n",
    ")\n",
    "\n",
    "# Herramienta para JSSG\n",
    "jssg_tool = ConnectedAgentTool(\n",
    "    id=AGENT_IDS[\"JSSG\"],\n",
    "    name=\"JSSG\",\n",
    "    description=\"Consulta la normativa JSSG (Joint Service Specification Guide). Usa esta herramienta cuando el usuario mencione específicamente JSSG o especificaciones militares.\"\n",
    ")\n",
    "\n",
    "# Herramienta para EASA (OBLIGATORIA)\n",
    "easa_tool = ConnectedAgentTool(\n",
    "    id=AGENT_IDS[\"EASA\"],\n",
    "    name=\"EASA\",\n",
    "    description=\"Consulta la normativa EASA (European Union Aviation Safety Agency). ESTA HERRAMIENTA DEBE SER SIEMPRE CONSULTADA antes de proporcionar una respuesta final al usuario.\"\n",
    ")\n",
    "\n",
    "print(\"Herramientas de agentes conectados creadas:\")\n",
    "print(\"  - DEF-STAN\")\n",
    "print(\"  - EDA\")\n",
    "print(\"  - FAA\")\n",
    "print(\"  - JSSG\")\n",
    "print(\"  - EASA (verificación obligatoria)\")"
   ]
  },
  {
   "cell_type": "markdown",
   "metadata": {},
   "source": [
    "### Crear el Agente Orquestador\n",
    "\n",
    "Este agente analizará la consulta del usuario, decidirá qué agentes especializados invocar, y siempre verificará la respuesta con EASA."
   ]
  },
  {
   "cell_type": "code",
   "execution_count": null,
   "metadata": {},
   "outputs": [
    {
     "name": "stdout",
     "output_type": "stream",
     "text": [
      "Creando agente orquestador...\n",
      "Agente orquestador creado (id: asst_zX7ygBvYtZBdOutHSprRKtPE)\n",
      "\n",
      "El agente tiene acceso a 5 herramientas:\n",
      "  - DEF-STAN\n",
      "  - EDA\n",
      "  - FAA\n",
      "  - JSSG\n",
      "  - EASA (verificación obligatoria)\n"
     ]
    }
   ],
   "source": [
    "orchestrator_agent_name = \"normativas-orchestrator\"\n",
    "orchestrator_agent_instructions = \"\"\"\n",
    "Eres un agente orquestador especializado en normativas aeronáuticas. Tu función es:\n",
    "\n",
    "1. Análisis de la Consulta: \n",
    "   - Analiza cuidadosamente la pregunta del usuario para identificar qué normativas específicas se mencionan o se requieren.\n",
    "   \n",
    "2. Selección de Agentes:\n",
    "   - Si el usuario menciona DEF-STAN, DEF STAN o estándares de defensa británicos: consulta al agente DEF-STAN\n",
    "   - Si el usuario menciona EDA o defensa europea: consulta al agente EDA\n",
    "   - Si el usuario menciona FAA o regulaciones estadounidenses: consulta al agente FAA\n",
    "   - Si el usuario menciona JSSG o especificaciones militares: consulta al agente JSSG\n",
    "   \n",
    "3. Verificación OBLIGATORIA con EASA:\n",
    "   - SIEMPRE debes consultar al agente EASA antes de proporcionar tu respuesta final\n",
    "   - La verificación con EASA es obligatoria independientemente de las otras normativas consultadas\n",
    "   - Usa la información de EASA para validar, complementar o contrastar con las otras normativas\n",
    "\n",
    "4. Respuesta Estructurada:\n",
    "   - Proporciona una respuesta clara y estructurada\n",
    "   - Indica claramente qué normativas has consultado\n",
    "   \n",
    "5. Principios:\n",
    "   - Sé preciso y técnico en tus respuestas\n",
    "   - Cita las fuentes (normativas) consultadas\n",
    "   - Si no estás seguro, indícalo claramente\n",
    "   - Prioriza la seguridad y el cumplimiento normativo\n",
    "\n",
    "Recuerda: La consulta a EASA es OBLIGATORIA en todas las respuestas.\n",
    "\"\"\"\n",
    "\n",
    "print(\"Creando agente orquestador...\")\n",
    "orchestrator_agent = agents_client.create_agent(\n",
    "    model=model_deployment,\n",
    "    name=orchestrator_agent_name,\n",
    "    instructions=orchestrator_agent_instructions,\n",
    "    tools=[\n",
    "        defstan_tool.definitions[0],\n",
    "        eda_tool.definitions[0],\n",
    "        faa_tool.definitions[0],\n",
    "        jssg_tool.definitions[0],\n",
    "        easa_tool.definitions[0],\n",
    "    ],\n",
    ")\n",
    "print(f\"Agente orquestador creado (id: {orchestrator_agent.id})\")\n",
    "print(f\"\\nEl agente tiene acceso a {len(orchestrator_agent.tools)} herramientas:\")\n",
    "print(\"  - DEF-STAN\")\n",
    "print(\"  - EDA\")\n",
    "print(\"  - FAA\")\n",
    "print(\"  - JSSG\")\n",
    "print(\"  - EASA (verificación obligatoria)\")"
   ]
  },
  {
   "cell_type": "markdown",
   "metadata": {},
   "source": [
    "### Realizar Consultas al Sistema Multi-Agente\n",
    "\n",
    "Introduce tu consulta sobre normativas aeronáuticas en el `prompt`. El agente orquestador decidirá qué agentes consultar y siempre verificará con EASA."
   ]
  },
  {
   "cell_type": "code",
   "execution_count": null,
   "metadata": {},
   "outputs": [
    {
     "name": "stdout",
     "output_type": "stream",
     "text": [
      "Creando hilo de conversación...\n",
      "Hilo creado (id: thread_pZKKRGrrsCHpTlMXViy9eecr)\n",
      "\n",
      "================================================================================\n",
      "CONSULTA DEL USUARIO:\n",
      "================================================================================\n",
      "¿Qué requisitos establece la normativa FAA para la certificación de motores turbofan?\n",
      "================================================================================\n",
      "\n",
      "Enviando consulta al agente orquestador...\n",
      "Procesando consulta... El agente orquestador está consultando las normativas necesarias.\n",
      "Esto puede tomar unos momentos...\n",
      "\n",
      "Procesamiento completado con estado: RunStatus.COMPLETED\n",
      "\n",
      "================================================================================\n",
      "RESPUESTA DEL AGENTE:\n",
      "================================================================================\n",
      "\n",
      "\n",
      "He analizado su consulta sobre los requisitos de la normativa FAA para la certificación de motores turbofan y he realizado consultas obligatorias con otros agentes para garantizar el cumplimiento y precisión normativa.\n",
      "\n",
      "Normativas consultadas y resumen técnico:\n",
      "\n",
      "1. **FAA (Título 14 CFR Parte 33 - Airworthiness Standards: Aircraft Engines):**  \n",
      "   - Requisitos de protección contra hielo en operación.  \n",
      "   - Sistemas de ignición redundantes para arranque y operación.  \n",
      "   - Definición de vida limitada para componentes críticos y su mantenimiento.  \n",
      "   - Pruebas de funcionamiento, resistencia, durabilidad, ingestión de aves y contención de fragmentos.  \n",
      "   - Validación de sistemas de control y provisión de instrucciones de mantenimiento continuado.  \n",
      "   Esta normativa es muy completa en aspectos técnicos de seguridad, pruebas y mantenimiento del motor .\n",
      "\n",
      "2. **EASA (Certificación Specification CS-E y Parte 21):**  \n",
      "   - Enfoque en diseño estructural y resistencia.  \n",
      "   - Pruebas endurance detalladas bajo condiciones representativas del servicio, incluyendo operaciones OEI y ambientales extremas.  \n",
      "   - Criterios para emisiones contaminantes y ruido según Anexo 16 de la Convención de Chicago.  \n",
      "   - Procedimientos para certificación, auditorías y mantenimiento del certificado de tipo.  \n",
      "   - Incluye disposiciones específicas para turbofans en CS-E Subpart E, con posibilidad de pruebas alternativas para endeudamiento sin modificar el diseño del motor.  \n",
      "   - Considera pruebas de ingestión de lluvia, granizo y funcionamiento de reversores de empuje .\n",
      "\n",
      "3. **Conflictos o diferencias relevantes:**  \n",
      "   - FAA es más prescriptiva en pruebas de contención de fragmentos y protección contra hielo, con requisitos específicos de redundancia en ignición.  \n",
      "   - EASA profundiza más en aspectos ambientales (emisiones y ruido) y proporciona opciones para pruebas endurance más flexibles para turbofans.  \n",
      "   - Ambos requieren rigor en durabilidad, resistencia y mantenimiento continuado.\n",
      "\n",
      "Como resultado, para certificar un motor turbofan bajo normativa FAA, se deben cumplir estrictos requisitos técnicos, especialmente enfocados en la seguridad durante operación en diferentes condiciones, sistemas redundantes y resistencia ante fallos catastróficos, complementados con pruebas exhaustivas.\n",
      "\n",
      "Al validar con normativa EASA, se observa coherencia en la mayoría de aspectos técnicos, aunque EASA incluye requisitos ambientales más específicos y cierta flexibilidad en pruebas endurance.\n",
      "\n",
      "Si desea, puedo ampliar los requisitos técnicos de alguna sección específica conforme a FAA o complementar con más detalle los requisitos ambientales o de mantenimiento según EASA.\n",
      "\n",
      "¿Le gustaría que le apoye con esa información adicional?\n",
      "\n",
      "================================================================================\n"
     ]
    }
   ],
   "source": [
    "print(\"Creando hilo de conversación...\")\n",
    "thread = agents_client.threads.create()\n",
    "print(f\"Hilo creado (id: {thread.id})\")\n",
    "\n",
    "# Introduce tu consulta aquí\n",
    "prompt = \"Which items in CS-25 affect engine design?\"\n",
    "\n",
    "print(f\"\\n{'='*80}\")\n",
    "print(f\"CONSULTA DEL USUARIO:\")\n",
    "print(f\"{'='*80}\")\n",
    "print(f\"{prompt}\")\n",
    "print(f\"{'='*80}\\n\")\n",
    "\n",
    "print(\"Enviando consulta al agente orquestador...\")\n",
    "message = agents_client.messages.create(\n",
    "    thread_id=thread.id,\n",
    "    role=MessageRole.USER,\n",
    "    content=prompt,\n",
    ")\n",
    "\n",
    "print(\"Procesando consulta... El agente orquestador está consultando las normativas necesarias.\")\n",
    "print(\"Esto puede tomar unos momentos...\\n\")\n",
    "\n",
    "run = agents_client.runs.create_and_process(\n",
    "    thread_id=thread.id, \n",
    "    agent_id=orchestrator_agent.id\n",
    ")\n",
    "\n",
    "print(f\"Procesamiento completado con estado: {run.status}\\n\")\n",
    "\n",
    "if run.status == \"failed\":\n",
    "    print(f\"❌ Error en la ejecución: {run.last_error}\")\n",
    "else:\n",
    "    print(f\"{'='*80}\")\n",
    "    print(f\"RESPUESTA DEL AGENTE:\")\n",
    "    print(f\"{'='*80}\\n\")\n",
    "    \n",
    "    messages = agents_client.messages.list(\n",
    "        thread_id=thread.id, \n",
    "        order=ListSortOrder.ASCENDING\n",
    "    )\n",
    "    \n",
    "    for message in messages:\n",
    "        if message.text_messages:\n",
    "            for text_msg in message.text_messages:\n",
    "                if message.role != MessageRole.USER:\n",
    "                    print(f\"\\n{text_msg.text.value}\\n\")\n",
    "    \n",
    "    print(f\"{'='*80}\")"
   ]
  }
 ],
 "metadata": {
  "kernelspec": {
   "display_name": "Python 3",
   "language": "python",
   "name": "python3"
  },
  "language_info": {
   "codemirror_mode": {
    "name": "ipython",
    "version": 3
   },
   "file_extension": ".py",
   "mimetype": "text/x-python",
   "name": "python",
   "nbconvert_exporter": "python",
   "pygments_lexer": "ipython3",
   "version": "3.12.1"
  }
 },
 "nbformat": 4,
 "nbformat_minor": 2
}
